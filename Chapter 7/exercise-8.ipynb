{
 "cells": [
  {
   "cell_type": "markdown",
   "source": [
    "Import the data"
   ],
   "metadata": {
    "collapsed": false
   }
  },
  {
   "cell_type": "code",
   "execution_count": 2,
   "metadata": {
    "collapsed": true
   },
   "outputs": [
    {
     "name": "stdout",
     "output_type": "stream",
     "text": [
      "dict_keys(['data', 'target', 'frame', 'categories', 'feature_names', 'target_names', 'DESCR', 'details', 'url'])\n"
     ]
    }
   ],
   "source": [
    "from sklearn.datasets import fetch_openml\n",
    "\n",
    "mnist = fetch_openml(\"mnist_784\", version=1, as_frame=False)\n",
    "print(mnist.keys())"
   ]
  },
  {
   "cell_type": "markdown",
   "source": [
    "Train/Validation/Test Split"
   ],
   "metadata": {
    "collapsed": false
   }
  },
  {
   "cell_type": "code",
   "execution_count": 3,
   "outputs": [
    {
     "name": "stdout",
     "output_type": "stream",
     "text": [
      "(50000, 784)\n",
      "(10000, 784)\n",
      "(10000, 784)\n",
      "(50000,)\n",
      "(10000,)\n",
      "(10000,)\n"
     ]
    }
   ],
   "source": [
    "X, y = mnist[\"data\"], mnist[\"target\"]\n",
    "X_train, X_val, X_test = X[:50000], X[50000:60000], X[-10000:]  # The training set is inherently split (and stratified)\n",
    "y_train, y_val, y_test = y[:50000], y[50000:60000], y[-10000:]\n",
    "\n",
    "print(X_train.shape)\n",
    "print(X_val.shape)\n",
    "print(X_test.shape)\n",
    "print(y_train.shape)\n",
    "print(y_val.shape)\n",
    "print(y_test.shape)"
   ],
   "metadata": {
    "collapsed": false
   }
  },
  {
   "cell_type": "code",
   "execution_count": 4,
   "outputs": [
    {
     "name": "stdout",
     "output_type": "stream",
     "text": [
      "Fitting 3 folds for each of 10 candidates, totalling 30 fits\n",
      "[CV] END ....C=7.009325797765703, gamma=0.008688476780448094; total time=   0.2s\n",
      "[CV] END ....C=7.009325797765703, gamma=0.008688476780448094; total time=   0.2s\n",
      "[CV] END ....C=7.009325797765703, gamma=0.008688476780448094; total time=   0.2s\n",
      "[CV] END ....C=3.535886658776003, gamma=0.002055428188115425; total time=   0.2s\n",
      "[CV] END ....C=3.535886658776003, gamma=0.002055428188115425; total time=   0.2s\n",
      "[CV] END ....C=3.535886658776003, gamma=0.002055428188115425; total time=   0.2s\n",
      "[CV] END ....C=1.0148154538163392, gamma=0.06690912128026312; total time=   0.2s\n",
      "[CV] END ....C=1.0148154538163392, gamma=0.06690912128026312; total time=   0.3s\n",
      "[CV] END ....C=1.0148154538163392, gamma=0.06690912128026312; total time=   0.2s\n",
      "[CV] END .....C=10.95439523349186, gamma=0.01173039938888608; total time=   0.3s\n",
      "[CV] END .....C=10.95439523349186, gamma=0.01173039938888608; total time=   0.2s\n",
      "[CV] END .....C=10.95439523349186, gamma=0.01173039938888608; total time=   0.2s\n",
      "[CV] END ....C=5.776728595871795, gamma=0.011011045807812815; total time=   0.2s\n",
      "[CV] END ....C=5.776728595871795, gamma=0.011011045807812815; total time=   0.2s\n",
      "[CV] END ....C=5.776728595871795, gamma=0.011011045807812815; total time=   0.2s\n",
      "[CV] END ...C=7.105298829805213, gamma=0.0038206357040777203; total time=   0.2s\n",
      "[CV] END ...C=7.105298829805213, gamma=0.0038206357040777203; total time=   0.2s\n",
      "[CV] END ...C=7.105298829805213, gamma=0.0038206357040777203; total time=   0.2s\n",
      "[CV] END ..C=1.5945454736026345, gamma=0.0019387766818633446; total time=   0.2s\n",
      "[CV] END ..C=1.5945454736026345, gamma=0.0019387766818633446; total time=   0.2s\n",
      "[CV] END ..C=1.5945454736026345, gamma=0.0019387766818633446; total time=   0.2s\n",
      "[CV] END ...C=2.8410584384005046, gamma=0.030881588386367342; total time=   0.2s\n",
      "[CV] END ...C=2.8410584384005046, gamma=0.030881588386367342; total time=   0.2s\n",
      "[CV] END ...C=2.8410584384005046, gamma=0.030881588386367342; total time=   0.2s\n",
      "[CV] END ...C=10.592190256011389, gamma=0.005458932734821129; total time=   0.2s\n",
      "[CV] END ...C=10.592190256011389, gamma=0.005458932734821129; total time=   0.2s\n",
      "[CV] END ...C=10.592190256011389, gamma=0.005458932734821129; total time=   0.2s\n",
      "[CV] END .....C=9.444230065226861, gamma=0.03075114407372693; total time=   0.2s\n",
      "[CV] END .....C=9.444230065226861, gamma=0.03075114407372693; total time=   0.2s\n",
      "[CV] END .....C=9.444230065226861, gamma=0.03075114407372693; total time=   0.2s\n"
     ]
    },
    {
     "data": {
      "text/plain": "RandomizedSearchCV(cv=3, estimator=SVC(random_state=256),\n                   param_distributions={'C': <scipy.stats._distn_infrastructure.rv_continuous_frozen object at 0x139b12d30>,\n                                        'gamma': <scipy.stats._distn_infrastructure.rv_continuous_frozen object at 0x139bb8e80>},\n                   verbose=2)",
      "text/html": "<style>#sk-container-id-1 {color: black;background-color: white;}#sk-container-id-1 pre{padding: 0;}#sk-container-id-1 div.sk-toggleable {background-color: white;}#sk-container-id-1 label.sk-toggleable__label {cursor: pointer;display: block;width: 100%;margin-bottom: 0;padding: 0.3em;box-sizing: border-box;text-align: center;}#sk-container-id-1 label.sk-toggleable__label-arrow:before {content: \"▸\";float: left;margin-right: 0.25em;color: #696969;}#sk-container-id-1 label.sk-toggleable__label-arrow:hover:before {color: black;}#sk-container-id-1 div.sk-estimator:hover label.sk-toggleable__label-arrow:before {color: black;}#sk-container-id-1 div.sk-toggleable__content {max-height: 0;max-width: 0;overflow: hidden;text-align: left;background-color: #f0f8ff;}#sk-container-id-1 div.sk-toggleable__content pre {margin: 0.2em;color: black;border-radius: 0.25em;background-color: #f0f8ff;}#sk-container-id-1 input.sk-toggleable__control:checked~div.sk-toggleable__content {max-height: 200px;max-width: 100%;overflow: auto;}#sk-container-id-1 input.sk-toggleable__control:checked~label.sk-toggleable__label-arrow:before {content: \"▾\";}#sk-container-id-1 div.sk-estimator input.sk-toggleable__control:checked~label.sk-toggleable__label {background-color: #d4ebff;}#sk-container-id-1 div.sk-label input.sk-toggleable__control:checked~label.sk-toggleable__label {background-color: #d4ebff;}#sk-container-id-1 input.sk-hidden--visually {border: 0;clip: rect(1px 1px 1px 1px);clip: rect(1px, 1px, 1px, 1px);height: 1px;margin: -1px;overflow: hidden;padding: 0;position: absolute;width: 1px;}#sk-container-id-1 div.sk-estimator {font-family: monospace;background-color: #f0f8ff;border: 1px dotted black;border-radius: 0.25em;box-sizing: border-box;margin-bottom: 0.5em;}#sk-container-id-1 div.sk-estimator:hover {background-color: #d4ebff;}#sk-container-id-1 div.sk-parallel-item::after {content: \"\";width: 100%;border-bottom: 1px solid gray;flex-grow: 1;}#sk-container-id-1 div.sk-label:hover label.sk-toggleable__label {background-color: #d4ebff;}#sk-container-id-1 div.sk-serial::before {content: \"\";position: absolute;border-left: 1px solid gray;box-sizing: border-box;top: 0;bottom: 0;left: 50%;z-index: 0;}#sk-container-id-1 div.sk-serial {display: flex;flex-direction: column;align-items: center;background-color: white;padding-right: 0.2em;padding-left: 0.2em;position: relative;}#sk-container-id-1 div.sk-item {position: relative;z-index: 1;}#sk-container-id-1 div.sk-parallel {display: flex;align-items: stretch;justify-content: center;background-color: white;position: relative;}#sk-container-id-1 div.sk-item::before, #sk-container-id-1 div.sk-parallel-item::before {content: \"\";position: absolute;border-left: 1px solid gray;box-sizing: border-box;top: 0;bottom: 0;left: 50%;z-index: -1;}#sk-container-id-1 div.sk-parallel-item {display: flex;flex-direction: column;z-index: 1;position: relative;background-color: white;}#sk-container-id-1 div.sk-parallel-item:first-child::after {align-self: flex-end;width: 50%;}#sk-container-id-1 div.sk-parallel-item:last-child::after {align-self: flex-start;width: 50%;}#sk-container-id-1 div.sk-parallel-item:only-child::after {width: 0;}#sk-container-id-1 div.sk-dashed-wrapped {border: 1px dashed gray;margin: 0 0.4em 0.5em 0.4em;box-sizing: border-box;padding-bottom: 0.4em;background-color: white;}#sk-container-id-1 div.sk-label label {font-family: monospace;font-weight: bold;display: inline-block;line-height: 1.2em;}#sk-container-id-1 div.sk-label-container {text-align: center;}#sk-container-id-1 div.sk-container {/* jupyter's `normalize.less` sets `[hidden] { display: none; }` but bootstrap.min.css set `[hidden] { display: none !important; }` so we also need the `!important` here to be able to override the default hidden behavior on the sphinx rendered scikit-learn.org. See: https://github.com/scikit-learn/scikit-learn/issues/21755 */display: inline-block !important;position: relative;}#sk-container-id-1 div.sk-text-repr-fallback {display: none;}</style><div id=\"sk-container-id-1\" class=\"sk-top-container\"><div class=\"sk-text-repr-fallback\"><pre>RandomizedSearchCV(cv=3, estimator=SVC(random_state=256),\n                   param_distributions={&#x27;C&#x27;: &lt;scipy.stats._distn_infrastructure.rv_continuous_frozen object at 0x139b12d30&gt;,\n                                        &#x27;gamma&#x27;: &lt;scipy.stats._distn_infrastructure.rv_continuous_frozen object at 0x139bb8e80&gt;},\n                   verbose=2)</pre><b>In a Jupyter environment, please rerun this cell to show the HTML representation or trust the notebook. <br />On GitHub, the HTML representation is unable to render, please try loading this page with nbviewer.org.</b></div><div class=\"sk-container\" hidden><div class=\"sk-item sk-dashed-wrapped\"><div class=\"sk-label-container\"><div class=\"sk-label sk-toggleable\"><input class=\"sk-toggleable__control sk-hidden--visually\" id=\"sk-estimator-id-1\" type=\"checkbox\" ><label for=\"sk-estimator-id-1\" class=\"sk-toggleable__label sk-toggleable__label-arrow\">RandomizedSearchCV</label><div class=\"sk-toggleable__content\"><pre>RandomizedSearchCV(cv=3, estimator=SVC(random_state=256),\n                   param_distributions={&#x27;C&#x27;: &lt;scipy.stats._distn_infrastructure.rv_continuous_frozen object at 0x139b12d30&gt;,\n                                        &#x27;gamma&#x27;: &lt;scipy.stats._distn_infrastructure.rv_continuous_frozen object at 0x139bb8e80&gt;},\n                   verbose=2)</pre></div></div></div><div class=\"sk-parallel\"><div class=\"sk-parallel-item\"><div class=\"sk-item\"><div class=\"sk-label-container\"><div class=\"sk-label sk-toggleable\"><input class=\"sk-toggleable__control sk-hidden--visually\" id=\"sk-estimator-id-2\" type=\"checkbox\" ><label for=\"sk-estimator-id-2\" class=\"sk-toggleable__label sk-toggleable__label-arrow\">estimator: SVC</label><div class=\"sk-toggleable__content\"><pre>SVC(random_state=256)</pre></div></div></div><div class=\"sk-serial\"><div class=\"sk-item\"><div class=\"sk-estimator sk-toggleable\"><input class=\"sk-toggleable__control sk-hidden--visually\" id=\"sk-estimator-id-3\" type=\"checkbox\" ><label for=\"sk-estimator-id-3\" class=\"sk-toggleable__label sk-toggleable__label-arrow\">SVC</label><div class=\"sk-toggleable__content\"><pre>SVC(random_state=256)</pre></div></div></div></div></div></div></div></div></div></div>"
     },
     "execution_count": 4,
     "metadata": {},
     "output_type": "execute_result"
    }
   ],
   "source": [
    "import numpy as np\n",
    "from sklearn.model_selection import RandomizedSearchCV\n",
    "from sklearn.preprocessing import StandardScaler\n",
    "from scipy.stats import reciprocal, uniform\n",
    "from sklearn.svm import SVC\n",
    "\n",
    "svm_clf = SVC(kernel=\"rbf\", gamma=\"scale\", random_state=256)\n",
    "\n",
    "scaler = StandardScaler()\n",
    "X_train_scaled = scaler.fit_transform(X_train.astype(np.float32))\n",
    "X_test_scaled = scaler.transform(X_test.astype(np.float32))\n",
    "\n",
    "param_distributions = {\"gamma\": reciprocal(0.001, 0.1), \"C\": uniform(1, 10)}\n",
    "rnd_search_cv = RandomizedSearchCV(svm_clf, param_distributions, n_iter=10, verbose=2, cv=3)\n",
    "rnd_search_cv.fit(X_train_scaled[:1000], y_train[:1000])"
   ],
   "metadata": {
    "collapsed": false
   }
  },
  {
   "cell_type": "markdown",
   "source": [
    "SVM (Gaussian RBF Kernel) Classifier"
   ],
   "metadata": {
    "collapsed": false
   }
  },
  {
   "cell_type": "code",
   "execution_count": 6,
   "outputs": [
    {
     "name": "stdout",
     "output_type": "stream",
     "text": [
      "SVC Training Complete. Time Elapsed: 325.916603 seconds\n"
     ]
    }
   ],
   "source": [
    "import time\n",
    "\n",
    "start_time = time.time()\n",
    "\n",
    "rnd_search_cv.best_estimator_.fit(X_train_scaled, y_train)\n",
    "\n",
    "end_time = time.time()\n",
    "print(\"SVC Training Complete. Time Elapsed: %f seconds\" % (end_time - start_time))"
   ],
   "metadata": {
    "collapsed": false
   }
  },
  {
   "cell_type": "markdown",
   "source": [
    "Random Forest and Extra Trees Classifiers"
   ],
   "metadata": {
    "collapsed": false
   }
  },
  {
   "cell_type": "code",
   "execution_count": null,
   "outputs": [
    {
     "name": "stdout",
     "output_type": "stream",
     "text": [
      "Random Forest Training Complete. Time Elapsed: 62.555339 seconds\n"
     ]
    }
   ],
   "source": [
    "from sklearn.ensemble import RandomForestClassifier, ExtraTreesClassifier\n",
    "\n",
    "start_time = time.time()\n",
    "\n",
    "random_forest_clf = RandomForestClassifier(n_estimators=200, random_state=42)\n",
    "random_forest_clf.fit(X_train, y_train)\n",
    "\n",
    "end_time = time.time()\n",
    "print(\"Random Forest Training Complete. Time Elapsed: %f seconds\" % (end_time - start_time))\n",
    "\n",
    "start_time = time.time()\n",
    "\n",
    "extra_trees_clf = ExtraTreesClassifier(n_estimators=200, random_state=42)\n",
    "extra_trees_clf.fit(X_train, y_train)\n",
    "\n",
    "end_time = time.time()\n",
    "print(\"Extra Trees Training Complete. Time Elapsed: %f seconds\" % (end_time - start_time))"
   ],
   "metadata": {
    "collapsed": false,
    "pycharm": {
     "is_executing": true
    }
   }
  },
  {
   "cell_type": "markdown",
   "source": [
    "Multilayer Perceptron Classifier"
   ],
   "metadata": {
    "collapsed": false
   }
  },
  {
   "cell_type": "code",
   "execution_count": 7,
   "outputs": [
    {
     "name": "stdout",
     "output_type": "stream",
     "text": [
      "MLP Training Complete. Time Elapsed: 97.766538 seconds\n"
     ]
    }
   ],
   "source": [
    "from sklearn.neural_network import MLPClassifier\n",
    "\n",
    "start_time = time.time()\n",
    "\n",
    "mlp_clf = MLPClassifier(random_state=42)\n",
    "mlp_clf.fit(X_train, y_train)\n",
    "\n",
    "end_time = time.time()\n",
    "print(\"MLP Training Complete. Time Elapsed: %f seconds\" % (end_time - start_time))"
   ],
   "metadata": {
    "collapsed": false
   }
  },
  {
   "cell_type": "markdown",
   "source": [
    "SGD Classifier"
   ],
   "metadata": {
    "collapsed": false
   }
  },
  {
   "cell_type": "code",
   "execution_count": null,
   "outputs": [],
   "source": [
    "from sklearn.linear_model import SGDClassifier\n",
    "\n",
    "start_time = time.time()\n",
    "\n",
    "sgd_clf = SGDClassifier(random_state=42)\n",
    "sgd_clf.fit(X_train, y_train)\n",
    "\n",
    "end_time = time.time()\n",
    "print(\"SGD Training Complete. Time Elapsed: %f seconds\" % (end_time - start_time))"
   ],
   "metadata": {
    "collapsed": false
   }
  },
  {
   "cell_type": "markdown",
   "source": [
    "Validation accuracy of each classifier"
   ],
   "metadata": {
    "collapsed": false
   }
  },
  {
   "cell_type": "code",
   "execution_count": null,
   "outputs": [],
   "source": [
    "estimators = [svm_clf, random_forest_clf, extra_trees_clf, mlp_clf, sgd_clf]\n",
    "[estimator.score(X_val, y_val) for estimator in estimators]"
   ],
   "metadata": {
    "collapsed": false
   }
  }
 ],
 "metadata": {
  "kernelspec": {
   "display_name": "Python 3",
   "language": "python",
   "name": "python3"
  },
  "language_info": {
   "codemirror_mode": {
    "name": "ipython",
    "version": 2
   },
   "file_extension": ".py",
   "mimetype": "text/x-python",
   "name": "python",
   "nbconvert_exporter": "python",
   "pygments_lexer": "ipython2",
   "version": "2.7.6"
  }
 },
 "nbformat": 4,
 "nbformat_minor": 0
}
